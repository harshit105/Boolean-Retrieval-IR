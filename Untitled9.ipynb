{
  "nbformat": 4,
  "nbformat_minor": 0,
  "metadata": {
    "colab": {
      "name": "Untitled9.ipynb",
      "provenance": [],
      "collapsed_sections": []
    },
    "kernelspec": {
      "name": "python3",
      "display_name": "Python 3"
    },
    "language_info": {
      "name": "python"
    }
  },
  "cells": [
    {
      "cell_type": "code",
      "execution_count": 1,
      "metadata": {
        "id": "dIO65gwuTfmG",
        "colab": {
          "base_uri": "https://localhost:8080/"
        },
        "outputId": "95f0c658-d09c-4049-f376-783c17870c1a"
      },
      "outputs": [
        {
          "output_type": "stream",
          "name": "stdout",
          "text": [
            "[nltk_data] Downloading package stopwords to /root/nltk_data...\n",
            "[nltk_data]   Unzipping corpora/stopwords.zip.\n",
            "[nltk_data] Downloading package punkt to /root/nltk_data...\n",
            "[nltk_data]   Unzipping tokenizers/punkt.zip.\n",
            "[nltk_data] Downloading package wordnet to /root/nltk_data...\n",
            "[nltk_data]   Unzipping corpora/wordnet.zip.\n"
          ]
        },
        {
          "output_type": "execute_result",
          "data": {
            "text/plain": [
              "True"
            ]
          },
          "metadata": {},
          "execution_count": 1
        }
      ],
      "source": [
        "#importing libraries\n",
        "import numpy as np\n",
        "import pandas as pd\n",
        "import matplotlib as plt\n",
        "import os\n",
        "import nltk\n",
        "nltk.download('stopwords')\n",
        "nltk.download('punkt')\n",
        "nltk.download('wordnet')"
      ]
    },
    {
      "cell_type": "code",
      "source": [
        "from nltk.corpus import stopwords\n",
        "from nltk.tokenize import word_tokenize\n",
        "from nltk.stem import WordNetLemmatizer\n",
        "from nltk.stem import PorterStemmer\n",
        "from nltk.corpus import words\n",
        "from nltk.metrics.distance  import edit_distance"
      ],
      "metadata": {
        "id": "ugO4MMzPV6CL"
      },
      "execution_count": 2,
      "outputs": []
    },
    {
      "cell_type": "code",
      "source": [
        "from google.colab import drive\n",
        "drive.mount('/content/drive')"
      ],
      "metadata": {
        "id": "-3PtGz6wVsmN",
        "colab": {
          "base_uri": "https://localhost:8080/"
        },
        "outputId": "ea7f5dde-870a-474a-8768-8cddb9ace500"
      },
      "execution_count": 21,
      "outputs": [
        {
          "output_type": "stream",
          "name": "stdout",
          "text": [
            "Drive already mounted at /content/drive; to attempt to forcibly remount, call drive.mount(\"/content/drive\", force_remount=True).\n"
          ]
        }
      ]
    },
    {
      "cell_type": "code",
      "source": [
        "def preprocess(line) :\n",
        "    \"\"\"\n",
        "    This function preprocesses the given string. It lowers the case of string and removes stopwords, punctuations and lemmatize the string.\n",
        "    args:\n",
        "      line(string)=> String to be preprocessed.\n",
        "    return:\n",
        "      lemmatizedWords(List)=> List of preprocessed tokens.\n",
        "    \"\"\"\n",
        "    #Remove stop words and punctuations, convert all words to lowercase and lemmatize\n",
        "    stop_words = set(stopwords.words('english'))\n",
        "    dummy=line\n",
        "    dummy=dummy.lower()\n",
        "    punctuation = \"!\\\"#$%&\\'()*+,-./:;<=>?@[\\]^_`{|}~\" \n",
        "    for c in dummy :\n",
        "      if c in punctuation :\n",
        "        dummy=dummy.replace(c,\"\")\n",
        "    word_tokens = word_tokenize(dummy)\n",
        "    filtered_sentence = [w for w in word_tokens if not w in stop_words]\n",
        "    lz=WordNetLemmatizer()\n",
        "    lemmatizedWords=[] #stores lemmatized words\n",
        "    for i in filtered_sentence:\n",
        "        lemmatizedWords.append(lz.lemmatize(i))\n",
        "    return lemmatizedWords"
      ],
      "metadata": {
        "id": "nwSySF5B_UkA"
      },
      "execution_count": 4,
      "outputs": []
    },
    {
      "cell_type": "code",
      "source": [
        "def open_file(new_path,counter,d) :\n",
        "  \"\"\"\n",
        "  Reads the file at given location. Creates inverted index.\n",
        "  args:\n",
        "    new_path(string)=> Path of file.\n",
        "    counter(int)=> id of file.\n",
        "    d(dict)=> inverted index.\n",
        "  \"\"\"\n",
        "  #reads files line by line\n",
        "  with open(new_path, 'r') as f:\n",
        "    file = f.readlines()\n",
        "  for line in file:\n",
        "    #preprocess here\n",
        "    words=preprocess(line)\n",
        "    for i in words:\n",
        "      #put all distinct words in a dictionary (inverted index generated here)\n",
        "      #counter tells us the index of the document\n",
        "      if i not in d:\n",
        "        d[i]=[counter]\n",
        "      else:\n",
        "        if(d[i][-1]<counter):\n",
        "          d[i].append(counter)\n"
      ],
      "metadata": {
        "id": "mi5HnnVphRLR"
      },
      "execution_count": 5,
      "outputs": []
    },
    {
      "cell_type": "code",
      "source": [
        "def rotation() :\n",
        "  \"\"\"\n",
        "  Creates permuterm.\n",
        "  \"\"\"\n",
        "  #finding rotations of all words in inverted index (permuterm)\n",
        "  for i in d :\n",
        "    new_word=i\n",
        "    new_word+='$'\n",
        "    length=len(new_word)\n",
        "    for j in range (length) :\n",
        "      temp= new_word[j:]+new_word[:j]\n",
        "      if temp not in rotations :\n",
        "        rotations[temp]=new_word"
      ],
      "metadata": {
        "id": "LHBCLB4YpPcw"
      },
      "execution_count": 6,
      "outputs": []
    },
    {
      "cell_type": "code",
      "source": [
        "def intersection(temp,temp2,ans,store_not):\n",
        "  \"\"\"\n",
        "  Finds boolean intersections of two lists.\n",
        "  args:\n",
        "    temp(string)=>first operand\n",
        "    temp2(string)=>second operand\n",
        "    ans(list)=> stores the final result.\n",
        "    store_not(list)=> stores the negation of a word.\n",
        "  return:\n",
        "    ans2(list)=> stores the final result.\n",
        "  \"\"\"\n",
        "  #Deals with boolean 'and' querires\n",
        "  i=0\n",
        "  j=0\n",
        "  ans2=[]\n",
        "  ans3=[]\n",
        "  if temp2==\"not\" :\n",
        "    ans3=store_not\n",
        "  else :\n",
        "    ans3=d[temp2]\n",
        "  if len(ans)==0 :\n",
        "    while i<len(d[temp]) and j<len(ans3) :\n",
        "      if d[temp][i]==ans3[j] :\n",
        "        ans2.append(d[temp][i])\n",
        "        i+=1\n",
        "        j+=1\n",
        "      elif d[temp][i]>ans3[j] :\n",
        "        j+=1\n",
        "      else :\n",
        "        i+=1\n",
        "  else :\n",
        "    while i<len(ans) and j<len(ans3) :\n",
        "      if ans[i]==ans3[j] :\n",
        "        ans2.append(ans[i])\n",
        "        i+=1\n",
        "        j+=1\n",
        "      elif ans[i]>ans3[j] :\n",
        "        j+=1\n",
        "      else :\n",
        "        i+=1\n",
        "  return ans2"
      ],
      "metadata": {
        "id": "1XqMS2-pq2Ov"
      },
      "execution_count": 7,
      "outputs": []
    },
    {
      "cell_type": "code",
      "source": [
        "def union(temp,temp2,ans,store_not):\n",
        "  \"\"\"\n",
        "  Finds boolean union of two lists.\n",
        "  args:\n",
        "    temp(string)=>first operand\n",
        "    temp2(string)=>second operand\n",
        "    ans(list)=> stores the final result.\n",
        "    store_not(list)=> stores the negation of a word.\n",
        "  return:\n",
        "    ans2(list)=> stores the final result.\n",
        "  \"\"\"\n",
        "  #deals with boolean 'or' queries\n",
        "  i=0\n",
        "  j=0\n",
        "  ans2=[]\n",
        "  ans3=[]\n",
        "  if temp2==\"not\" :\n",
        "    ans3=store_not\n",
        "  else :\n",
        "    ans3=d[temp2]\n",
        "  if len(ans)==0 :\n",
        "    while i<len(d[temp]) and j<len(ans3) :\n",
        "      if d[temp][i]==ans3[j] :\n",
        "        ans2.append(d[temp][i])\n",
        "        i+=1\n",
        "        j+=1\n",
        "      elif d[temp][i]>ans3[j] :\n",
        "        ans2.append(ans3[j])\n",
        "        j+=1\n",
        "      else :\n",
        "        ans2.append(d[temp][i])\n",
        "        i+=1\n",
        "    while i<len(d[temp]) :\n",
        "      ans2.append(d[temp][i])\n",
        "      i+=1\n",
        "    while j<len(ans3) :\n",
        "      ans2.append(ans3[j])\n",
        "      j+=1\n",
        "  else :\n",
        "    while i<len(ans) and j<len(ans3) :\n",
        "      if ans[i]==ans3[j] :\n",
        "        ans2.append(ans[i])\n",
        "        i+=1\n",
        "        j+=1\n",
        "      elif ans[i]>ans3[j] :\n",
        "        ans2.append(ans3[j])\n",
        "        j+=1\n",
        "      else :\n",
        "        ans2.append(ans[i])\n",
        "        i+=1\n",
        "    while i<len(ans) :\n",
        "      ans2.append(ans[i])\n",
        "      i+=1\n",
        "    while j<len(ans3) :\n",
        "      ans2.append(ans3[j])\n",
        "      j+=1\n",
        "  return ans2"
      ],
      "metadata": {
        "id": "yLf_USZeq2hE"
      },
      "execution_count": 8,
      "outputs": []
    },
    {
      "cell_type": "code",
      "source": [
        "def negate(temp) :\n",
        "  \"\"\"\n",
        "  Finds boolean intersections of two lists.\n",
        "  args:\n",
        "    temp(string)=>first operand\n",
        "  return:\n",
        "    ans2(list)=> stores the final result.\n",
        "  \"\"\"  \n",
        "  #deals with boolean 'not' queries\n",
        "  ans2=[]\n",
        "  d1={}\n",
        "  for i in d[temp]:\n",
        "    d1[i]=1\n",
        "  for i in range(1,counter+1):\n",
        "    if(i not in d1):\n",
        "      ans2.append(i)\n",
        "  return ans2"
      ],
      "metadata": {
        "id": "DfS5auMGq2l3"
      },
      "execution_count": 9,
      "outputs": []
    },
    {
      "cell_type": "code",
      "source": [
        "def edit_dist(word1,word2,n,m) :\n",
        "  \"\"\"\n",
        "  Finds Edit Distance between two words.\n",
        "  args:\n",
        "    word1(string)=>First word\n",
        "    word2(string)=>Second word\n",
        "    n(int)=>length of word1.\n",
        "    m(int)=>length of word2.\n",
        "\n",
        "  return:\n",
        "    dp[n][m](int)=> Edit distance of the words\n",
        "  \"\"\"\n",
        "  #distance between 2 strings using edit distance dp\n",
        "  dp = [[0 for i in range(m+1)]for j in range(n+1)]\n",
        "  for i in range(n+1) :\n",
        "    for j in range(m+1) :\n",
        "      if i==0 :\n",
        "        dp[i][j]=j\n",
        "      elif j==0 :\n",
        "        dp[i][j]=i\n",
        "      elif word1[i-1]==word2[j-1] :\n",
        "        dp[i][j]=dp[i-1][j-1]\n",
        "      else :\n",
        "        dp[i][j]=1+min(dp[i][j-1],dp[i-1][j],dp[i-1][j-1])\n",
        "  return dp[n][m]"
      ],
      "metadata": {
        "id": "066Tyb_pVYO7"
      },
      "execution_count": 10,
      "outputs": []
    },
    {
      "cell_type": "code",
      "source": [
        "def spell_check(word) :\n",
        "  \"\"\"\n",
        "  Checks the spelling of words in query.\n",
        "  args:\n",
        "    word(string)=>word to be spell checked\n",
        "  return:\n",
        "    temp2(string)=>correct spelled word.\n",
        "  \"\"\"\n",
        "\n",
        "  #if word is in inverted index then return else spell check\n",
        "  spell_corrected=[]\n",
        "  counter=0\n",
        "  if word not in d:\n",
        "      #find edit distance with all words in inverted index\n",
        "      for i in d :\n",
        "        distance=edit_dist(word,i,len(word),len(i))\n",
        "        spell_corrected.append([i,distance])\n",
        "  else :\n",
        "    spell_corrected.append([word,0])\n",
        "  temp=\"\"\n",
        "  minm=len(word)\n",
        "  #find the words with minimum edit distance\n",
        "  for [i,j] in spell_corrected :\n",
        "    if j<minm :\n",
        "      minm=j\n",
        "      temp=i\n",
        "  #if the edit distance is more than half of input's length then return the word without spell check\n",
        "  # and print no results found\n",
        "  if 2*minm>len(word) :\n",
        "    return word\n",
        "  else :\n",
        "    #find the word which is in maximum documents and return it\n",
        "    maxm=0\n",
        "    temp2=\"\"\n",
        "    for [i,j] in spell_corrected :\n",
        "      if j==minm :\n",
        "        if len(d[i])>maxm :\n",
        "          maxm=len(d[i])\n",
        "          temp2=i\n",
        "    return temp2"
      ],
      "metadata": {
        "id": "Z8NrwwEy_Uyx"
      },
      "execution_count": 11,
      "outputs": []
    },
    {
      "cell_type": "code",
      "source": [
        "def unionlist(l1,l2):\n",
        "  \"\"\"\n",
        "   Finds boolean union of two lists.\n",
        "    args:\n",
        "      l1(list)=> inverted index of first word.\n",
        "      l2(list)=> inverted index of second word.\n",
        "    return:\n",
        "      l(list)=> stores the final result. \n",
        "  \"\"\"\n",
        "  l=[]\n",
        "  n=len(l1)\n",
        "  m=len(l2)\n",
        "  i,j=0,0\n",
        "  while(i<n and j<m):\n",
        "    if(l1[i]<l2[j]):\n",
        "      l.append(l1[i])\n",
        "      i+=1\n",
        "    elif(l1[i]>l2[j]):\n",
        "      l.append(l2[j])\n",
        "      j+=1\n",
        "    else:\n",
        "      l.append(l1[i])\n",
        "      i+=1\n",
        "      j+=1\n",
        "  if(i<n):\n",
        "    while(i<n):\n",
        "      l.append(l1[i])\n",
        "      i+=1\n",
        "  if(j<m):\n",
        "    while(j<m):\n",
        "      l.append(l2[j])\n",
        "      j+=1\n",
        "  return l"
      ],
      "metadata": {
        "id": "7-4_l5FVzcD_"
      },
      "execution_count": 12,
      "outputs": []
    },
    {
      "cell_type": "code",
      "source": [
        "def intersectlist(l1,l2):\n",
        "  \"\"\"\n",
        "   Finds intersection of two lists.\n",
        "    args:\n",
        "      l1(list)=> inverted index of first word.\n",
        "      l2(list)=> inverted index of second word.\n",
        "    return:\n",
        "      l(list)=> stores the final result. \n",
        "  \"\"\" \n",
        "  l=[]\n",
        "  n=len(l1)\n",
        "  m=len(l2)\n",
        "  i,j=0,0\n",
        "  while(i<n and j<m):\n",
        "    if(l1[i]<l2[j]):\n",
        "      i+=1\n",
        "    elif(l1[i]>l2[j]):\n",
        "      j+=1\n",
        "    else:\n",
        "      l.append(l1[i])\n",
        "      i+=1\n",
        "      j+=1\n",
        "  return l"
      ],
      "metadata": {
        "id": "qQilV6wPzcT6"
      },
      "execution_count": 13,
      "outputs": []
    },
    {
      "cell_type": "code",
      "source": [
        "def negatelist(l1):\n",
        "  \"\"\"\n",
        "   Finds negation of two lists.\n",
        "    args:\n",
        "      l1(list)=> inverted index of first word.\n",
        "      l2(list)=> inverted index of second word.\n",
        "    return:\n",
        "      l(list)=> stores the final result. \n",
        "  \"\"\"\n",
        "  l=[]\n",
        "  d2={}\n",
        "  for i in range(len(l1)):\n",
        "    d2[l1[i]]=1\n",
        "  for i in range(1,43):\n",
        "    if(i not in d2):\n",
        "      l.append(i)\n",
        "  return l"
      ],
      "metadata": {
        "id": "6tW3kP9n3r0B"
      },
      "execution_count": 14,
      "outputs": []
    },
    {
      "cell_type": "code",
      "source": [
        "def unionizer(temp) :\n",
        "  \"\"\"\n",
        "   Finds mixed queries.\n",
        "    args:\n",
        "      temp(string)=> operand.\n",
        "    return:\n",
        "      binary value\n",
        "  \"\"\" \n",
        "  flag=0\n",
        "  for i in temp :\n",
        "    if i=='*':\n",
        "      flag=1\n",
        "      break\n",
        "  if flag==1 :\n",
        "    docs=wildcard_queries(temp)\n",
        "\n",
        "  else :  \n",
        "    if temp!=\"\" and temp not in d :\n",
        "      return 0\n",
        "  "
      ],
      "metadata": {
        "id": "BebfSM1NqNEM"
      },
      "execution_count": 15,
      "outputs": []
    },
    {
      "cell_type": "code",
      "source": [
        ""
      ],
      "metadata": {
        "id": "EJqFE-v8zcej"
      },
      "execution_count": 15,
      "outputs": []
    },
    {
      "cell_type": "code",
      "source": [
        "def search(temp) :\n",
        "  \"\"\"\n",
        "  Searches for wildcard queries\n",
        "  args:\n",
        "   temp(string)=> operand\n",
        "  return:\n",
        "    possible_words(list)=>all possible words.\n",
        "  \"\"\"\n",
        "  #go through the rotation dictionary to find a prefix match for the wildcard query\n",
        "  #return all possible words\n",
        "  possible_words=[]\n",
        "  length=len(temp)\n",
        "  for i in rotations :\n",
        "    if(len(i)>=length) :\n",
        "      temp2=i[0:length]\n",
        "      if temp2==temp :\n",
        "        possible_words.append(rotations[i])\n",
        "  return possible_words"
      ],
      "metadata": {
        "id": "Z29LkxkUE-Iq"
      },
      "execution_count": 16,
      "outputs": []
    },
    {
      "cell_type": "code",
      "source": [
        "def wildcard_queries(query) :\n",
        "  \"\"\"\n",
        "  Find wildcard queries.\n",
        "  args:\n",
        "    query(string)=> query.\n",
        "  return:\n",
        "    docs(dict)=> all possible words.\n",
        "  \"\"\"\n",
        "  query+='$'\n",
        "  index=0\n",
        "  #find the position of * in the query\n",
        "  for i in query :\n",
        "    if(i=='*') :\n",
        "      break\n",
        "    index+=1\n",
        "  length=len(query)\n",
        "  #rotate the query such that * is at the end\n",
        "  temp=query[index+1:]+query[0:index+1]\n",
        "  if(index==length) :\n",
        "    #if no * is present\n",
        "    possible_words=search(temp)\n",
        "  else :\n",
        "    possible_words=search(temp[0:length-1])\n",
        "  #docs stores files names for each possible word\n",
        "  docs={}\n",
        "  for i in possible_words :\n",
        "    index=d[i[:len(i)-1]]\n",
        "    for j in index :\n",
        "      if i[:len(i)-1] not in docs:\n",
        "        docs[i[:len(i)-1]]=[j]\n",
        "      else:\n",
        "          docs[i[:len(i)-1]].append(j-1)\n",
        "  #print all possible words with the file names\n",
        "  return docs"
      ],
      "metadata": {
        "id": "D1XTYNGPq1Vt"
      },
      "execution_count": 17,
      "outputs": []
    },
    {
      "cell_type": "code",
      "source": [
        "def boolean_queries():\n",
        "  \"\"\"\n",
        "  Finds mixed queries.\n",
        "  \"\"\"\n",
        "  #funciton to handle boolean queries\n",
        "  query = input('Enter Query: ')\n",
        "  temp=\"\"\n",
        "  temp2=\"\"\n",
        "  val=0\n",
        "  val2=0\n",
        "  ans=[]\n",
        "  store_not=[]\n",
        "  #if query has one word the return its inverted index after spell checking or return not found\n",
        "  if len(query.split())==1 :\n",
        "    word=query.split()[0]\n",
        "    word=spell_check(word)\n",
        "    if word not in d :\n",
        "      print(\"No results found\")\n",
        "    else :\n",
        "      for i in d[word] :\n",
        "        print(files[i-1])\n",
        "  else :\n",
        "    for i in query.split():\n",
        "      #temp stores the first operand of the query and temp2 stores the second operand of the query\n",
        "      # eg : a and b , temp=a , temp2=b\n",
        "      # val stores the operation to be done\n",
        "      # val=1 then do call and, val=2 call union, val=3 call negate\n",
        "      #for queries like \"a and not b\", val2 is used\n",
        "      # val2 stores 1 if and precedes not and 2 if or precedes not\n",
        "      if temp!=\"\" :\n",
        "        if temp not in d :\n",
        "          print(\"No results found\")\n",
        "      if temp2!=\"\" :\n",
        "        if temp2 not in d :\n",
        "          print(\"No results found\")\n",
        "      if i=='and':\n",
        "        val=1\n",
        "        continue\n",
        "      elif i=='or':\n",
        "        val=2\n",
        "        continue\n",
        "      elif i=='not':\n",
        "        val2=val\n",
        "        val=3\n",
        "        continue\n",
        "      else :\n",
        "        if temp==\"\" :\n",
        "          temp=i\n",
        "          temp=spell_check(i)\n",
        "          if val==3 :\n",
        "            store_not=negate(temp)\n",
        "        else :\n",
        "          if temp2==\"\" :\n",
        "            temp2=i\n",
        "            temp2=spell_check(temp2)\n",
        "          if val==1 :\n",
        "            ans=intersection(temp,temp2,ans,store_not)\n",
        "            temp=temp2\n",
        "            temp2=\"\"\n",
        "          elif val==2 :\n",
        "            ans=union(temp,temp2,ans,store_not)\n",
        "            temp=temp2\n",
        "            temp2=\"\"\n",
        "          else :\n",
        "            store_not=negate(temp2)\n",
        "            temp2=\"not\"\n",
        "            if val2==1 :\n",
        "              ans=intersection(temp,temp2,ans,store_not)\n",
        "            else :\n",
        "              ans=union(temp,temp2,ans,store_not)\n",
        "    # and has all file indexes returned by the functions after processing the query\n",
        "    # print file names using the indexes in\n",
        "    for i in ans :\n",
        "      print(files[i-1])\n"
      ],
      "metadata": {
        "id": "wFonoOHHppDX"
      },
      "execution_count": 18,
      "outputs": []
    },
    {
      "cell_type": "code",
      "source": [
        "def boolean_queries1():\n",
        "  \"\"\"\n",
        "  Finds mixed queries.\n",
        "  \"\"\"\n",
        "  #funciton to handle boolean queries\n",
        "  query = input('Enter Query: ')\n",
        "  temp=\"\"\n",
        "  temp2=\"\"\n",
        "  val=0\n",
        "  val2=0\n",
        "  ans=[]\n",
        "  store_not=[]\n",
        "  templist=[]\n",
        "  templist2=[]\n",
        "  c=0\n",
        "  #if query has one word the return its inverted index after spell checking or return not found\n",
        "  if len(query.split())==1 :\n",
        "    word=query.split()[0]\n",
        "    word=spell_check(word)\n",
        "    if word not in d :\n",
        "      print(\"No results found\")\n",
        "    else :\n",
        "      for i in d[word] :\n",
        "        print(files[i-1])\n",
        "  else :\n",
        "    for i in query.split():\n",
        "      #temp stores the first operand of the query and temp2 stores the second operand of the query\n",
        "      # eg : a and b , temp=a , temp2=b\n",
        "      # val stores the operation to be done\n",
        "      # val=1 then do call and, val=2 call union, val=3 call negate\n",
        "      #for queries like \"a and not b\", val2 is used\n",
        "      # val2 stores 1 if and precedes not and 2 if or precedes not\n",
        "      if(ans!=[]):\n",
        "        templist=ans\n",
        "      if i=='and':\n",
        "        val=1\n",
        "        continue\n",
        "      elif i=='or':\n",
        "        val=2\n",
        "        continue\n",
        "      elif i=='not':\n",
        "        val2=val\n",
        "        val=3\n",
        "        continue\n",
        "      else :\n",
        "        if temp==\"\" :\n",
        "          temp=i\n",
        "          if('*' in temp):\n",
        "            docs=wildcard_queries(temp)\n",
        "            templist=[]\n",
        "            for i in docs:\n",
        "              templist=unionlist(templist,docs[i])\n",
        "            templist=list(set(templist))\n",
        "          else:\n",
        "            temp=spell_check(i)\n",
        "            if(temp not in d):\n",
        "              print(\"No results found\")\n",
        "            else:\n",
        "              templist=d[temp]\n",
        "          if val==3 :\n",
        "            templist=negatelist(templist)\n",
        "        else :\n",
        "          if temp2==\"\" :\n",
        "            temp2=i\n",
        "            if('*' in temp2):\n",
        "              docs=wildcard_queries(temp2)\n",
        "              templist2=[]\n",
        "              for i in docs:\n",
        "                templist2=unionlist(templist2,docs[i])\n",
        "              templist2=list(set(templist2))\n",
        "            else:\n",
        "              temp2=spell_check(temp2)\n",
        "              if(temp2 not in d):\n",
        "                print(\"No results found\")\n",
        "              else:\n",
        "                templist2=d[temp2]\n",
        "          if val==1 :\n",
        "            ans=intersectlist(templist,templist2)\n",
        "            temp2=\"\"\n",
        "          elif val==2 :\n",
        "            ans=unionlist(templist,templist2)\n",
        "            temp2=\"\"\n",
        "          else :\n",
        "            templist2=negatelist(templist2)\n",
        "            #temp2=\"not\"\n",
        "            if val2==1 :\n",
        "              ans=intersectlist(templist,templist2)\n",
        "            else :\n",
        "              ans=unionlist(templist,templist2)\n",
        "        #print(templist,templist2)\n",
        "    # and has all file indexes returned by the functions after processing the query\n",
        "    # print file names using the indexes in\n",
        "    #print(ans)\n",
        "    for i in ans :\n",
        "      print(files[i-1])\n"
      ],
      "metadata": {
        "id": "HJx25zOC5Pz1"
      },
      "execution_count": 19,
      "outputs": []
    },
    {
      "cell_type": "code",
      "source": [
        "root_path = '/content/drive/MyDrive/corpus'\n",
        "#input the text files using gdrive\n",
        "directory = os.fsencode(root_path)\n",
        "counter=0;\n",
        "d={}\n",
        "rotations={}\n",
        "files=[]\n",
        "for file in os.listdir(root_path):\n",
        "\n",
        "  if file.endswith(\".txt\"): \n",
        "\n",
        "    new_path=os.path.join(root_path, file)\n",
        "    files.append(file)\n",
        "    #counter gives all text files a unique id\n",
        "    counter+=1\n",
        "    open_file(new_path,counter,d)\n",
        "    continue\n",
        "  else:\n",
        "    continue\n",
        "rotation()"
      ],
      "metadata": {
        "id": "Z2jpkpCSFGNF",
        "colab": {
          "base_uri": "https://localhost:8080/",
          "height": 380
        },
        "outputId": "e140ba2a-385b-4934-dc94-56deeccbd26f"
      },
      "execution_count": 28,
      "outputs": [
        {
          "output_type": "error",
          "ename": "UnicodeDecodeError",
          "evalue": "ignored",
          "traceback": [
            "\u001b[0;31m---------------------------------------------------------------------------\u001b[0m",
            "\u001b[0;31mUnicodeDecodeError\u001b[0m                        Traceback (most recent call last)",
            "\u001b[0;32m<ipython-input-28-2f892ac34295>\u001b[0m in \u001b[0;36m<module>\u001b[0;34m()\u001b[0m\n\u001b[1;32m     14\u001b[0m     \u001b[0;31m#counter gives all text files a unique id\u001b[0m\u001b[0;34m\u001b[0m\u001b[0;34m\u001b[0m\u001b[0;34m\u001b[0m\u001b[0m\n\u001b[1;32m     15\u001b[0m     \u001b[0mcounter\u001b[0m\u001b[0;34m+=\u001b[0m\u001b[0;36m1\u001b[0m\u001b[0;34m\u001b[0m\u001b[0;34m\u001b[0m\u001b[0m\n\u001b[0;32m---> 16\u001b[0;31m     \u001b[0mopen_file\u001b[0m\u001b[0;34m(\u001b[0m\u001b[0mnew_path\u001b[0m\u001b[0;34m,\u001b[0m\u001b[0mcounter\u001b[0m\u001b[0;34m,\u001b[0m\u001b[0md\u001b[0m\u001b[0;34m)\u001b[0m\u001b[0;34m\u001b[0m\u001b[0;34m\u001b[0m\u001b[0m\n\u001b[0m\u001b[1;32m     17\u001b[0m     \u001b[0;32mcontinue\u001b[0m\u001b[0;34m\u001b[0m\u001b[0;34m\u001b[0m\u001b[0m\n\u001b[1;32m     18\u001b[0m   \u001b[0;32melse\u001b[0m\u001b[0;34m:\u001b[0m\u001b[0;34m\u001b[0m\u001b[0;34m\u001b[0m\u001b[0m\n",
            "\u001b[0;32m<ipython-input-5-a8e5e9601b5e>\u001b[0m in \u001b[0;36mopen_file\u001b[0;34m(new_path, counter, d)\u001b[0m\n\u001b[1;32m      9\u001b[0m   \u001b[0;31m#reads files line by line\u001b[0m\u001b[0;34m\u001b[0m\u001b[0;34m\u001b[0m\u001b[0;34m\u001b[0m\u001b[0m\n\u001b[1;32m     10\u001b[0m   \u001b[0;32mwith\u001b[0m \u001b[0mopen\u001b[0m\u001b[0;34m(\u001b[0m\u001b[0mnew_path\u001b[0m\u001b[0;34m,\u001b[0m \u001b[0;34m'r'\u001b[0m\u001b[0;34m)\u001b[0m \u001b[0;32mas\u001b[0m \u001b[0mf\u001b[0m\u001b[0;34m:\u001b[0m\u001b[0;34m\u001b[0m\u001b[0;34m\u001b[0m\u001b[0m\n\u001b[0;32m---> 11\u001b[0;31m     \u001b[0mfile\u001b[0m \u001b[0;34m=\u001b[0m \u001b[0mf\u001b[0m\u001b[0;34m.\u001b[0m\u001b[0mreadlines\u001b[0m\u001b[0;34m(\u001b[0m\u001b[0;34m)\u001b[0m\u001b[0;34m\u001b[0m\u001b[0;34m\u001b[0m\u001b[0m\n\u001b[0m\u001b[1;32m     12\u001b[0m   \u001b[0;32mfor\u001b[0m \u001b[0mline\u001b[0m \u001b[0;32min\u001b[0m \u001b[0mfile\u001b[0m\u001b[0;34m:\u001b[0m\u001b[0;34m\u001b[0m\u001b[0;34m\u001b[0m\u001b[0m\n\u001b[1;32m     13\u001b[0m     \u001b[0;31m#preprocess here\u001b[0m\u001b[0;34m\u001b[0m\u001b[0;34m\u001b[0m\u001b[0;34m\u001b[0m\u001b[0m\n",
            "\u001b[0;32m/usr/lib/python3.7/codecs.py\u001b[0m in \u001b[0;36mdecode\u001b[0;34m(self, input, final)\u001b[0m\n\u001b[1;32m    320\u001b[0m         \u001b[0;31m# decode input (taking the buffer into account)\u001b[0m\u001b[0;34m\u001b[0m\u001b[0;34m\u001b[0m\u001b[0;34m\u001b[0m\u001b[0m\n\u001b[1;32m    321\u001b[0m         \u001b[0mdata\u001b[0m \u001b[0;34m=\u001b[0m \u001b[0mself\u001b[0m\u001b[0;34m.\u001b[0m\u001b[0mbuffer\u001b[0m \u001b[0;34m+\u001b[0m \u001b[0minput\u001b[0m\u001b[0;34m\u001b[0m\u001b[0;34m\u001b[0m\u001b[0m\n\u001b[0;32m--> 322\u001b[0;31m         \u001b[0;34m(\u001b[0m\u001b[0mresult\u001b[0m\u001b[0;34m,\u001b[0m \u001b[0mconsumed\u001b[0m\u001b[0;34m)\u001b[0m \u001b[0;34m=\u001b[0m \u001b[0mself\u001b[0m\u001b[0;34m.\u001b[0m\u001b[0m_buffer_decode\u001b[0m\u001b[0;34m(\u001b[0m\u001b[0mdata\u001b[0m\u001b[0;34m,\u001b[0m \u001b[0mself\u001b[0m\u001b[0;34m.\u001b[0m\u001b[0merrors\u001b[0m\u001b[0;34m,\u001b[0m \u001b[0mfinal\u001b[0m\u001b[0;34m)\u001b[0m\u001b[0;34m\u001b[0m\u001b[0;34m\u001b[0m\u001b[0m\n\u001b[0m\u001b[1;32m    323\u001b[0m         \u001b[0;31m# keep undecoded input until the next call\u001b[0m\u001b[0;34m\u001b[0m\u001b[0;34m\u001b[0m\u001b[0;34m\u001b[0m\u001b[0m\n\u001b[1;32m    324\u001b[0m         \u001b[0mself\u001b[0m\u001b[0;34m.\u001b[0m\u001b[0mbuffer\u001b[0m \u001b[0;34m=\u001b[0m \u001b[0mdata\u001b[0m\u001b[0;34m[\u001b[0m\u001b[0mconsumed\u001b[0m\u001b[0;34m:\u001b[0m\u001b[0;34m]\u001b[0m\u001b[0;34m\u001b[0m\u001b[0;34m\u001b[0m\u001b[0m\n",
            "\u001b[0;31mUnicodeDecodeError\u001b[0m: 'utf-8' codec can't decode byte 0x80 in position 45: invalid start byte"
          ]
        }
      ]
    },
    {
      "cell_type": "code",
      "source": [
        "#input queries here\n",
        "query = input('Enter 1 for Boolean query and 2 for Wildcard ')\n",
        "if query[0]=='1' :\n",
        "  boolean_queries1()\n",
        "elif query[0]=='2' :\n",
        "  query2 = input('Enter Query: ')\n",
        "  docs=wildcard_queries(query2)\n",
        "  for i in docs :\n",
        "    ans=[]\n",
        "    for j in docs[i] :\n",
        "      ans.append(files[j-1])\n",
        "    print(i,ans)\n",
        "else :\n",
        "  print(\"Invalid Choice\")"
      ],
      "metadata": {
        "id": "SpFfUyJLJ08B",
        "colab": {
          "base_uri": "https://localhost:8080/"
        },
        "outputId": "23c36da4-b941-4299-8938-8e316f1fb8d0"
      },
      "execution_count": 29,
      "outputs": [
        {
          "output_type": "stream",
          "name": "stdout",
          "text": [
            "Enter 1 for Boolean query and 2 for Wildcard 1\n",
            "Enter Query: shakespear or brutus\n",
            "No results found\n",
            "No results found\n"
          ]
        }
      ]
    }
  ]
}